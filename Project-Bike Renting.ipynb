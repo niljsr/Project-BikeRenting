{
 "cells": [
  {
   "cell_type": "code",
   "execution_count": 1,
   "metadata": {
    "collapsed": true
   },
   "outputs": [],
   "source": [
    "import os\n",
    "import pandas as pd\n",
    "import numpy as np"
   ]
  },
  {
   "cell_type": "code",
   "execution_count": 3,
   "metadata": {},
   "outputs": [
    {
     "data": {
      "text/plain": [
       "'G:\\\\edwisor'"
      ]
     },
     "execution_count": 3,
     "metadata": {},
     "output_type": "execute_result"
    }
   ],
   "source": [
    "os.getcwd()"
   ]
  },
  {
   "cell_type": "code",
   "execution_count": 2,
   "metadata": {
    "collapsed": true
   },
   "outputs": [],
   "source": [
    "os.chdir(\"G:\\edwisor\")"
   ]
  },
  {
   "cell_type": "code",
   "execution_count": 4,
   "metadata": {
    "collapsed": true
   },
   "outputs": [],
   "source": [
    "data = pd.read_csv(\"day.csv\")"
   ]
  },
  {
   "cell_type": "code",
   "execution_count": 77,
   "metadata": {
    "collapsed": true
   },
   "outputs": [],
   "source": [
    "# pre-processing \n",
    "# checking for null values\n",
    "\n",
    "missing_value = pd.DataFrame(data.isnull().sum())"
   ]
  },
  {
   "cell_type": "code",
   "execution_count": 5,
   "metadata": {
    "collapsed": true
   },
   "outputs": [],
   "source": [
    "# So we can conclude that there is no missing value\n",
    "# Outlier Analysis\n",
    "# Detect Outliers\n",
    "\n",
    "cnames = ['instant','season','yr','mnth','holiday','weekday','workingday','weathersit','temp','atemp','hum','windspeed','casual','registered','cnt']\n"
   ]
  },
  {
   "cell_type": "code",
   "execution_count": 81,
   "metadata": {},
   "outputs": [
    {
     "name": "stdout",
     "output_type": "stream",
     "text": [
      "instant\n",
      "season\n",
      "yr\n",
      "mnth\n",
      "holiday\n",
      "weekday\n",
      "workingday\n",
      "weathersit\n",
      "temp\n",
      "atemp\n",
      "hum\n",
      "windspeed\n",
      "casual\n",
      "registered\n",
      "cnt\n"
     ]
    }
   ],
   "source": [
    "for i in cnames :\n",
    "    print(i)\n",
    "    q75, q25 = np.percentile(data.loc[:,i], [75 ,25])\n",
    "    iqr = q75-q25\n",
    "    min = q25 - (float(iqr)*1.5)\n",
    "    max = q75 - (float(iqr)*1.5)\n",
    "    out_low = data[data.loc[:,i]<min]\n",
    "    out_high = data[data.loc[:,i]>max]\n",
    "    "
   ]
  },
  {
   "cell_type": "code",
   "execution_count": 82,
   "metadata": {},
   "outputs": [
    {
     "name": "stdout",
     "output_type": "stream",
     "text": [
      "Empty DataFrame\n",
      "Columns: [instant, dteday, season, yr, mnth, holiday, weekday, workingday, weathersit, temp, atemp, hum, windspeed, casual, registered, cnt]\n",
      "Index: []\n",
      "     instant      dteday  season  yr  mnth  holiday  weekday  workingday  \\\n",
      "19        20  2011-01-20       1   0     1        0        4           1   \n",
      "24        25  2011-01-25       1   0     1        0        2           1   \n",
      "44        45  2011-02-14       1   0     2        0        1           1   \n",
      "45        46  2011-02-15       1   0     2        0        2           1   \n",
      "46        47  2011-02-16       1   0     2        0        3           1   \n",
      "47        48  2011-02-17       1   0     2        0        4           1   \n",
      "48        49  2011-02-18       1   0     2        0        5           1   \n",
      "50        51  2011-02-20       1   0     2        0        0           0   \n",
      "53        54  2011-02-23       1   0     2        0        3           1   \n",
      "54        55  2011-02-24       1   0     2        0        4           1   \n",
      "56        57  2011-02-26       1   0     2        0        6           0   \n",
      "57        58  2011-02-27       1   0     2        0        0           0   \n",
      "59        60  2011-03-01       1   0     3        0        2           1   \n",
      "60        61  2011-03-02       1   0     3        0        3           1   \n",
      "62        63  2011-03-04       1   0     3        0        5           1   \n",
      "63        64  2011-03-05       1   0     3        0        6           0   \n",
      "65        66  2011-03-07       1   0     3        0        1           1   \n",
      "66        67  2011-03-08       1   0     3        0        2           1   \n",
      "67        68  2011-03-09       1   0     3        0        3           1   \n",
      "69        70  2011-03-11       1   0     3        0        5           1   \n",
      "70        71  2011-03-12       1   0     3        0        6           0   \n",
      "71        72  2011-03-13       1   0     3        0        0           0   \n",
      "72        73  2011-03-14       1   0     3        0        1           1   \n",
      "73        74  2011-03-15       1   0     3        0        2           1   \n",
      "74        75  2011-03-16       1   0     3        0        3           1   \n",
      "75        76  2011-03-17       1   0     3        0        4           1   \n",
      "76        77  2011-03-18       1   0     3        0        5           1   \n",
      "77        78  2011-03-19       1   0     3        0        6           0   \n",
      "78        79  2011-03-20       1   0     3        0        0           0   \n",
      "79        80  2011-03-21       2   0     3        0        1           1   \n",
      "..       ...         ...     ...  ..   ...      ...      ...         ...   \n",
      "696      697  2012-11-27       4   1    11        0        2           1   \n",
      "697      698  2012-11-28       4   1    11        0        3           1   \n",
      "698      699  2012-11-29       4   1    11        0        4           1   \n",
      "699      700  2012-11-30       4   1    11        0        5           1   \n",
      "700      701  2012-12-01       4   1    12        0        6           0   \n",
      "701      702  2012-12-02       4   1    12        0        0           0   \n",
      "702      703  2012-12-03       4   1    12        0        1           1   \n",
      "703      704  2012-12-04       4   1    12        0        2           1   \n",
      "704      705  2012-12-05       4   1    12        0        3           1   \n",
      "705      706  2012-12-06       4   1    12        0        4           1   \n",
      "706      707  2012-12-07       4   1    12        0        5           1   \n",
      "707      708  2012-12-08       4   1    12        0        6           0   \n",
      "708      709  2012-12-09       4   1    12        0        0           0   \n",
      "709      710  2012-12-10       4   1    12        0        1           1   \n",
      "710      711  2012-12-11       4   1    12        0        2           1   \n",
      "711      712  2012-12-12       4   1    12        0        3           1   \n",
      "712      713  2012-12-13       4   1    12        0        4           1   \n",
      "713      714  2012-12-14       4   1    12        0        5           1   \n",
      "714      715  2012-12-15       4   1    12        0        6           0   \n",
      "715      716  2012-12-16       4   1    12        0        0           0   \n",
      "716      717  2012-12-17       4   1    12        0        1           1   \n",
      "717      718  2012-12-18       4   1    12        0        2           1   \n",
      "718      719  2012-12-19       4   1    12        0        3           1   \n",
      "719      720  2012-12-20       4   1    12        0        4           1   \n",
      "720      721  2012-12-21       1   1    12        0        5           1   \n",
      "722      723  2012-12-23       1   1    12        0        0           0   \n",
      "726      727  2012-12-27       1   1    12        0        4           1   \n",
      "727      728  2012-12-28       1   1    12        0        5           1   \n",
      "729      730  2012-12-30       1   1    12        0        0           0   \n",
      "730      731  2012-12-31       1   1    12        0        1           1   \n",
      "\n",
      "     weathersit      temp     atemp       hum  windspeed  casual  registered  \\\n",
      "19            2  0.261667  0.255050  0.538333   0.195904      83        1844   \n",
      "24            2  0.223478  0.234526  0.616957   0.129796     186        1799   \n",
      "44            1  0.415000  0.398350  0.375833   0.417908     208        1705   \n",
      "45            1  0.266087  0.254274  0.314348   0.291374     140        1675   \n",
      "46            1  0.318261  0.316200  0.423478   0.251791     218        1897   \n",
      "47            1  0.435833  0.428658  0.505000   0.230104     259        2216   \n",
      "48            1  0.521667  0.511983  0.516667   0.264925     579        2348   \n",
      "50            1  0.285217  0.277330  0.407826   0.223235     639        1173   \n",
      "53            1  0.221739  0.245717  0.423043   0.094113     139        1778   \n",
      "54            2  0.295652  0.289191  0.697391   0.250496     100        1707   \n",
      "56            1  0.282500  0.282192  0.537917   0.186571     424        1545   \n",
      "57            1  0.343478  0.351109  0.680000   0.125248     694        1708   \n",
      "59            1  0.266667  0.263879  0.535000   0.216425     137        1714   \n",
      "60            1  0.335000  0.320071  0.449583   0.307833     231        1903   \n",
      "62            2  0.261667  0.255679  0.610417   0.203346     214        1730   \n",
      "63            2  0.384167  0.378779  0.789167   0.251871     640        1437   \n",
      "65            1  0.261739  0.238461  0.551304   0.341352     244        1628   \n",
      "66            1  0.292500  0.302400  0.420833   0.120650     316        1817   \n",
      "67            2  0.295833  0.286608  0.775417   0.220150     191        1700   \n",
      "69            2  0.316522  0.305000  0.649565   0.232970     247        1730   \n",
      "70            1  0.329167  0.325750  0.594583   0.220775     724        1408   \n",
      "71            1  0.384348  0.380091  0.527391   0.270604     982        1435   \n",
      "72            1  0.325217  0.332000  0.496957   0.136926     359        1687   \n",
      "73            2  0.317391  0.318178  0.655652   0.184309     289        1767   \n",
      "74            2  0.365217  0.366930  0.776522   0.203117     321        1871   \n",
      "75            1  0.415000  0.410333  0.602917   0.209579     424        2320   \n",
      "76            1  0.540000  0.527009  0.525217   0.231017     884        2355   \n",
      "77            1  0.472500  0.466525  0.379167   0.368167    1424        1693   \n",
      "78            1  0.332500  0.325750  0.473750   0.207721    1047        1424   \n",
      "79            2  0.430435  0.409735  0.737391   0.288783     401        1676   \n",
      "..          ...       ...       ...       ...        ...     ...         ...   \n",
      "696           2  0.291667  0.281558  0.786667   0.237562     123        3836   \n",
      "697           1  0.296667  0.289762  0.506250   0.210821     198        5062   \n",
      "698           1  0.280870  0.298422  0.555652   0.115522     243        5080   \n",
      "699           1  0.298333  0.323867  0.649583   0.058471     362        5306   \n",
      "700           2  0.298333  0.316904  0.806667   0.059704     951        4240   \n",
      "701           2  0.347500  0.359208  0.823333   0.124379     892        3757   \n",
      "702           1  0.452500  0.455796  0.767500   0.082721     555        5679   \n",
      "703           1  0.475833  0.469054  0.733750   0.174129     551        6055   \n",
      "704           1  0.438333  0.428012  0.485000   0.324021     331        5398   \n",
      "705           1  0.255833  0.258204  0.508750   0.174754     340        5035   \n",
      "706           2  0.320833  0.321958  0.764167   0.130600     349        4659   \n",
      "707           2  0.381667  0.389508  0.911250   0.101379    1153        4429   \n",
      "708           2  0.384167  0.390146  0.905417   0.157975     441        2787   \n",
      "709           2  0.435833  0.435575  0.925000   0.190308     329        4841   \n",
      "710           2  0.353333  0.338363  0.596667   0.296037     282        5219   \n",
      "711           2  0.297500  0.297338  0.538333   0.162937     310        5009   \n",
      "712           1  0.295833  0.294188  0.485833   0.174129     425        5107   \n",
      "713           1  0.281667  0.294192  0.642917   0.131229     429        5182   \n",
      "714           1  0.324167  0.338383  0.650417   0.106350     767        4280   \n",
      "715           2  0.362500  0.369938  0.838750   0.100742     538        3248   \n",
      "716           2  0.393333  0.401500  0.907083   0.098258     212        4373   \n",
      "717           1  0.410833  0.409708  0.666250   0.221404     433        5124   \n",
      "718           1  0.332500  0.342162  0.625417   0.184092     333        4934   \n",
      "719           2  0.330000  0.335217  0.667917   0.132463     314        3814   \n",
      "720           2  0.326667  0.301767  0.556667   0.374383     221        3402   \n",
      "722           1  0.245833  0.259471  0.515417   0.133083     408        1379   \n",
      "726           2  0.254167  0.226642  0.652917   0.350133     247        1867   \n",
      "727           2  0.253333  0.255046  0.590000   0.155471     644        2451   \n",
      "729           1  0.255833  0.231700  0.483333   0.350754     364        1432   \n",
      "730           2  0.215833  0.223487  0.577500   0.154846     439        2290   \n",
      "\n",
      "      cnt  \n",
      "19   1927  \n",
      "24   1985  \n",
      "44   1913  \n",
      "45   1815  \n",
      "46   2115  \n",
      "47   2475  \n",
      "48   2927  \n",
      "50   1812  \n",
      "53   1917  \n",
      "54   1807  \n",
      "56   1969  \n",
      "57   2402  \n",
      "59   1851  \n",
      "60   2134  \n",
      "62   1944  \n",
      "63   2077  \n",
      "65   1872  \n",
      "66   2133  \n",
      "67   1891  \n",
      "69   1977  \n",
      "70   2132  \n",
      "71   2417  \n",
      "72   2046  \n",
      "73   2056  \n",
      "74   2192  \n",
      "75   2744  \n",
      "76   3239  \n",
      "77   3117  \n",
      "78   2471  \n",
      "79   2077  \n",
      "..    ...  \n",
      "696  3959  \n",
      "697  5260  \n",
      "698  5323  \n",
      "699  5668  \n",
      "700  5191  \n",
      "701  4649  \n",
      "702  6234  \n",
      "703  6606  \n",
      "704  5729  \n",
      "705  5375  \n",
      "706  5008  \n",
      "707  5582  \n",
      "708  3228  \n",
      "709  5170  \n",
      "710  5501  \n",
      "711  5319  \n",
      "712  5532  \n",
      "713  5611  \n",
      "714  5047  \n",
      "715  3786  \n",
      "716  4585  \n",
      "717  5557  \n",
      "718  5267  \n",
      "719  4128  \n",
      "720  3623  \n",
      "722  1787  \n",
      "726  2114  \n",
      "727  3095  \n",
      "729  1796  \n",
      "730  2729  \n",
      "\n",
      "[656 rows x 16 columns]\n"
     ]
    }
   ],
   "source": [
    "print(out_low)\n",
    "print(out_high)"
   ]
  },
  {
   "cell_type": "code",
   "execution_count": null,
   "metadata": {
    "collapsed": true
   },
   "outputs": [],
   "source": [
    "!pip install fancyimpute"
   ]
  },
  {
   "cell_type": "code",
   "execution_count": 12,
   "metadata": {},
   "outputs": [
    {
     "name": "stdout",
     "output_type": "stream",
     "text": [
      "Requirement already satisfied: matplotlib in c:\\users\\nil\\anaconda3\\lib\\site-packages\n",
      "Requirement already satisfied: numpy>=1.7.1 in c:\\users\\nil\\anaconda3\\lib\\site-packages (from matplotlib)\n",
      "Requirement already satisfied: six>=1.10 in c:\\users\\nil\\anaconda3\\lib\\site-packages (from matplotlib)\n",
      "Requirement already satisfied: python-dateutil in c:\\users\\nil\\anaconda3\\lib\\site-packages (from matplotlib)\n",
      "Requirement already satisfied: pytz in c:\\users\\nil\\anaconda3\\lib\\site-packages (from matplotlib)\n",
      "Requirement already satisfied: cycler>=0.10 in c:\\users\\nil\\anaconda3\\lib\\site-packages (from matplotlib)\n",
      "Requirement already satisfied: pyparsing!=2.0.4,!=2.1.2,!=2.1.6,>=1.5.6 in c:\\users\\nil\\anaconda3\\lib\\site-packages (from matplotlib)\n"
     ]
    },
    {
     "name": "stderr",
     "output_type": "stream",
     "text": [
      "You are using pip version 9.0.1, however version 10.0.1 is available.\n",
      "You should consider upgrading via the 'python -m pip install --upgrade pip' command.\n"
     ]
    }
   ],
   "source": [
    "!pip install matplotlib"
   ]
  },
  {
   "cell_type": "code",
   "execution_count": 11,
   "metadata": {
    "collapsed": true
   },
   "outputs": [],
   "source": [
    "# based on the results we have no outliers\n",
    "# feature selection\n",
    "\n",
    "# taking only the columns with numerical values\n",
    "\n",
    "##Correlation analysis\n",
    "#Correlation plot\n",
    "#from fancyimpute import KNN   \n",
    "import matplotlib.pyplot as plt"
   ]
  },
  {
   "cell_type": "code",
   "execution_count": 6,
   "metadata": {
    "collapsed": true
   },
   "outputs": [],
   "source": [
    "data_corr = data.loc[:,cnames]"
   ]
  },
  {
   "cell_type": "code",
   "execution_count": 84,
   "metadata": {
    "collapsed": true
   },
   "outputs": [],
   "source": [
    "#Generate correlation matrix\n",
    "corr = data_corr.corr()\n"
   ]
  },
  {
   "cell_type": "code",
   "execution_count": 17,
   "metadata": {},
   "outputs": [
    {
     "name": "stdout",
     "output_type": "stream",
     "text": [
      "Requirement already satisfied: seaborn in c:\\users\\nil\\anaconda3\\lib\\site-packages\n"
     ]
    },
    {
     "name": "stderr",
     "output_type": "stream",
     "text": [
      "You are using pip version 9.0.1, however version 10.0.1 is available.\n",
      "You should consider upgrading via the 'python -m pip install --upgrade pip' command.\n"
     ]
    }
   ],
   "source": [
    "!pip install seaborn"
   ]
  },
  {
   "cell_type": "code",
   "execution_count": 18,
   "metadata": {
    "collapsed": true
   },
   "outputs": [],
   "source": [
    "import seaborn as sms"
   ]
  },
  {
   "cell_type": "code",
   "execution_count": 19,
   "metadata": {},
   "outputs": [
    {
     "data": {
      "text/plain": [
       "<function matplotlib.pyplot.show>"
      ]
     },
     "execution_count": 19,
     "metadata": {},
     "output_type": "execute_result"
    },
    {
     "data": {
      "image/png": "[encoded data removed]",
      "text/plain": [
       "<matplotlib.figure.Figure at 0x24b81436390>"
      ]
     },
     "metadata": {},
     "output_type": "display_data"
    }
   ],
   "source": [
    "# Creating the heat map\n",
    "\n",
    "import matplotlib.pyplot as plt\n",
    "%matplotlib inline\n",
    "#Set the width and hieght of the plot\n",
    "f, ax = plt.subplots(figsize=(7, 5))\n",
    "\n",
    "#Generate correlation matrix\n",
    "corr = data_corr.corr()\n",
    "\n",
    "#Plot using seaborn library\n",
    "sms.heatmap(corr, mask=py.zeros_like(corr, dtype=py.bool), cmap=sms.diverging_palette(220, 10, as_cmap=True),\n",
    "            square=True, ax=ax)\n",
    "plt.show"
   ]
  },
  {
   "cell_type": "code",
   "execution_count": 86,
   "metadata": {
    "collapsed": true
   },
   "outputs": [],
   "source": [
    "# As per the heat map we see high correlation between instant and yr, month and season, temp and atemp, casual and registered\n",
    "# Hence we remove instant season atemp hum casual and registered\n",
    "\n",
    "data_new = data_corr.drop(['atemp','instant','season','hum','registered','casual'],axis=1)"
   ]
  },
  {
   "cell_type": "code",
   "execution_count": 22,
   "metadata": {},
   "outputs": [
    {
     "name": "stdout",
     "output_type": "stream",
     "text": [
      "Collecting sklearn.crossvalidation\n"
     ]
    },
    {
     "name": "stderr",
     "output_type": "stream",
     "text": [
      "  Could not find a version that satisfies the requirement sklearn.crossvalidation (from versions: )\n",
      "No matching distribution found for sklearn.crossvalidation\n",
      "You are using pip version 9.0.1, however version 10.0.1 is available.\n",
      "You should consider upgrading via the 'python -m pip install --upgrade pip' command.\n"
     ]
    }
   ],
   "source": [
    "# Model Development\n",
    "\n",
    "# Linear Regression\n",
    "\n",
    "!pip install sklearn.crossvalidation"
   ]
  },
  {
   "cell_type": "code",
   "execution_count": 11,
   "metadata": {
    "collapsed": true
   },
   "outputs": [],
   "source": [
    "from sklearn.model_selection import train_test_split"
   ]
  },
  {
   "cell_type": "code",
   "execution_count": 88,
   "metadata": {
    "collapsed": true
   },
   "outputs": [],
   "source": [
    "# split the variables into train and test\n",
    "\n",
    "train,test = train_test_split(data_new, test_size =0.4)"
   ]
  },
  {
   "cell_type": "code",
   "execution_count": 25,
   "metadata": {},
   "outputs": [
    {
     "name": "stdout",
     "output_type": "stream",
     "text": [
      "Requirement already satisfied: scipy in c:\\users\\nil\\anaconda3\\lib\\site-packages\n"
     ]
    },
    {
     "name": "stderr",
     "output_type": "stream",
     "text": [
      "You are using pip version 9.0.1, however version 10.0.1 is available.\n",
      "You should consider upgrading via the 'python -m pip install --upgrade pip' command.\n"
     ]
    }
   ],
   "source": [
    "!pip install scipy"
   ]
  },
  {
   "cell_type": "code",
   "execution_count": 26,
   "metadata": {},
   "outputs": [
    {
     "name": "stdout",
     "output_type": "stream",
     "text": [
      "Requirement already satisfied: statsmodels in c:\\users\\nil\\anaconda3\\lib\\site-packages\n"
     ]
    },
    {
     "name": "stderr",
     "output_type": "stream",
     "text": [
      "You are using pip version 9.0.1, however version 10.0.1 is available.\n",
      "You should consider upgrading via the 'python -m pip install --upgrade pip' command.\n"
     ]
    }
   ],
   "source": [
    "!pip install statsmodels"
   ]
  },
  {
   "cell_type": "code",
   "execution_count": 90,
   "metadata": {},
   "outputs": [
    {
     "name": "stderr",
     "output_type": "stream",
     "text": [
      "C:\\Users\\NIL\\Anaconda3\\lib\\site-packages\\statsmodels\\compat\\pandas.py:56: FutureWarning: The pandas.core.datetools module is deprecated and will be removed in a future version. Please use the pandas.tseries module instead.\n",
      "  from pandas.core import datetools\n"
     ]
    }
   ],
   "source": [
    "import statsmodels.api as sm"
   ]
  },
  {
   "cell_type": "code",
   "execution_count": 91,
   "metadata": {
    "collapsed": true
   },
   "outputs": [],
   "source": [
    "# fitting into your model\n",
    "\n",
    "model = sm.OLS(train.iloc[:,8], train.iloc[:,0:8]).fit()"
   ]
  },
  {
   "cell_type": "code",
   "execution_count": 92,
   "metadata": {},
   "outputs": [
    {
     "data": {
      "text/html": [
       "<table class=\"simpletable\">\n",
       "<caption>OLS Regression Results</caption>\n",
       "<tr>\n",
       "  <th>Dep. Variable:</th>           <td>cnt</td>       <th>  R-squared:         </th> <td>   0.960</td> \n",
       "</tr>\n",
       "<tr>\n",
       "  <th>Model:</th>                   <td>OLS</td>       <th>  Adj. R-squared:    </th> <td>   0.960</td> \n",
       "</tr>\n",
       "<tr>\n",
       "  <th>Method:</th>             <td>Least Squares</td>  <th>  F-statistic:       </th> <td>   1300.</td> \n",
       "</tr>\n",
       "<tr>\n",
       "  <th>Date:</th>             <td>Sun, 08 Jul 2018</td> <th>  Prob (F-statistic):</th> <td>9.00e-296</td>\n",
       "</tr>\n",
       "<tr>\n",
       "  <th>Time:</th>                 <td>23:52:07</td>     <th>  Log-Likelihood:    </th> <td> -3632.5</td> \n",
       "</tr>\n",
       "<tr>\n",
       "  <th>No. Observations:</th>      <td>   438</td>      <th>  AIC:               </th> <td>   7281.</td> \n",
       "</tr>\n",
       "<tr>\n",
       "  <th>Df Residuals:</th>          <td>   430</td>      <th>  BIC:               </th> <td>   7314.</td> \n",
       "</tr>\n",
       "<tr>\n",
       "  <th>Df Model:</th>              <td>     8</td>      <th>                     </th>     <td> </td>    \n",
       "</tr>\n",
       "<tr>\n",
       "  <th>Covariance Type:</th>      <td>nonrobust</td>    <th>                     </th>     <td> </td>    \n",
       "</tr>\n",
       "</table>\n",
       "<table class=\"simpletable\">\n",
       "<tr>\n",
       "       <td></td>         <th>coef</th>     <th>std err</th>      <th>t</th>      <th>P>|t|</th>  <th>[0.025</th>    <th>0.975]</th>  \n",
       "</tr>\n",
       "<tr>\n",
       "  <th>yr</th>         <td> 2165.3505</td> <td>   92.183</td> <td>   23.490</td> <td> 0.000</td> <td> 1984.165</td> <td> 2346.536</td>\n",
       "</tr>\n",
       "<tr>\n",
       "  <th>mnth</th>       <td>  105.7544</td> <td>   13.957</td> <td>    7.577</td> <td> 0.000</td> <td>   78.321</td> <td>  133.188</td>\n",
       "</tr>\n",
       "<tr>\n",
       "  <th>holiday</th>    <td> -646.0216</td> <td>  294.251</td> <td>   -2.195</td> <td> 0.029</td> <td>-1224.372</td> <td>  -67.672</td>\n",
       "</tr>\n",
       "<tr>\n",
       "  <th>weekday</th>    <td>  103.0084</td> <td>   22.415</td> <td>    4.596</td> <td> 0.000</td> <td>   58.952</td> <td>  147.065</td>\n",
       "</tr>\n",
       "<tr>\n",
       "  <th>workingday</th> <td>  261.3937</td> <td>  100.763</td> <td>    2.594</td> <td> 0.010</td> <td>   63.345</td> <td>  459.442</td>\n",
       "</tr>\n",
       "<tr>\n",
       "  <th>weathersit</th> <td> -537.3590</td> <td>   76.602</td> <td>   -7.015</td> <td> 0.000</td> <td> -687.919</td> <td> -386.799</td>\n",
       "</tr>\n",
       "<tr>\n",
       "  <th>temp</th>       <td> 6388.8328</td> <td>  233.855</td> <td>   27.320</td> <td> 0.000</td> <td> 5929.191</td> <td> 6848.474</td>\n",
       "</tr>\n",
       "<tr>\n",
       "  <th>windspeed</th>  <td>-1157.1203</td> <td>  505.575</td> <td>   -2.289</td> <td> 0.023</td> <td>-2150.825</td> <td> -163.415</td>\n",
       "</tr>\n",
       "</table>\n",
       "<table class=\"simpletable\">\n",
       "<tr>\n",
       "  <th>Omnibus:</th>       <td>63.766</td> <th>  Durbin-Watson:     </th> <td>   2.078</td>\n",
       "</tr>\n",
       "<tr>\n",
       "  <th>Prob(Omnibus):</th> <td> 0.000</td> <th>  Jarque-Bera (JB):  </th> <td> 115.900</td>\n",
       "</tr>\n",
       "<tr>\n",
       "  <th>Skew:</th>          <td>-0.846</td> <th>  Prob(JB):          </th> <td>6.80e-26</td>\n",
       "</tr>\n",
       "<tr>\n",
       "  <th>Kurtosis:</th>      <td> 4.868</td> <th>  Cond. No.          </th> <td>    87.8</td>\n",
       "</tr>\n",
       "</table>"
      ],
      "text/plain": [
       "<class 'statsmodels.iolib.summary.Summary'>\n",
       "\"\"\"\n",
       "                            OLS Regression Results                            \n",
       "==============================================================================\n",
       "Dep. Variable:                    cnt   R-squared:                       0.960\n",
       "Model:                            OLS   Adj. R-squared:                  0.960\n",
       "Method:                 Least Squares   F-statistic:                     1300.\n",
       "Date:                Sun, 08 Jul 2018   Prob (F-statistic):          9.00e-296\n",
       "Time:                        23:52:07   Log-Likelihood:                -3632.5\n",
       "No. Observations:                 438   AIC:                             7281.\n",
       "Df Residuals:                     430   BIC:                             7314.\n",
       "Df Model:                           8                                         \n",
       "Covariance Type:            nonrobust                                         \n",
       "==============================================================================\n",
       "                 coef    std err          t      P>|t|      [0.025      0.975]\n",
       "------------------------------------------------------------------------------\n",
       "yr          2165.3505     92.183     23.490      0.000    1984.165    2346.536\n",
       "mnth         105.7544     13.957      7.577      0.000      78.321     133.188\n",
       "holiday     -646.0216    294.251     -2.195      0.029   -1224.372     -67.672\n",
       "weekday      103.0084     22.415      4.596      0.000      58.952     147.065\n",
       "workingday   261.3937    100.763      2.594      0.010      63.345     459.442\n",
       "weathersit  -537.3590     76.602     -7.015      0.000    -687.919    -386.799\n",
       "temp        6388.8328    233.855     27.320      0.000    5929.191    6848.474\n",
       "windspeed  -1157.1203    505.575     -2.289      0.023   -2150.825    -163.415\n",
       "==============================================================================\n",
       "Omnibus:                       63.766   Durbin-Watson:                   2.078\n",
       "Prob(Omnibus):                  0.000   Jarque-Bera (JB):              115.900\n",
       "Skew:                          -0.846   Prob(JB):                     6.80e-26\n",
       "Kurtosis:                       4.868   Cond. No.                         87.8\n",
       "==============================================================================\n",
       "\n",
       "Warnings:\n",
       "[1] Standard Errors assume that the covariance matrix of the errors is correctly specified.\n",
       "\"\"\""
      ]
     },
     "execution_count": 92,
     "metadata": {},
     "output_type": "execute_result"
    }
   ],
   "source": [
    "model.summary()"
   ]
  },
  {
   "cell_type": "code",
   "execution_count": 93,
   "metadata": {
    "collapsed": true
   },
   "outputs": [],
   "source": [
    "predictions_LR = model.predict(test.iloc[:,0:8])"
   ]
  },
  {
   "cell_type": "code",
   "execution_count": 12,
   "metadata": {
    "collapsed": true
   },
   "outputs": [],
   "source": [
    "# Creating function MAPE\n",
    "\n",
    "def MAPE(y_true,y_pred):\n",
    "    mape = np.mean(np.abs((y_true-y_pred)/y_true))*100\n",
    "    return mape\n",
    "    "
   ]
  },
  {
   "cell_type": "code",
   "execution_count": null,
   "metadata": {
    "collapsed": true
   },
   "outputs": [],
   "source": [
    "# Accuracy\n",
    "MAPE(test.iloc[:,8], predictions_LR)"
   ]
  },
  {
   "cell_type": "code",
   "execution_count": null,
   "metadata": {
    "collapsed": true
   },
   "outputs": [],
   "source": [
    "# R^ square is 96 %\n",
    "# 22.50 percent with 40 percent test data\n"
   ]
  },
  {
   "cell_type": "code",
   "execution_count": null,
   "metadata": {
    "collapsed": true
   },
   "outputs": [],
   "source": [
    "# KNN Regression\n",
    "\n",
    "# Normalization"
   ]
  },
  {
   "cell_type": "code",
   "execution_count": 97,
   "metadata": {
    "collapsed": true
   },
   "outputs": [],
   "source": [
    " cnames1 = ['mnth','yr','holiday','weekday','workingday','temp','weathersit','windspeed','cnt']\n",
    "   \n",
    "    \n",
    "#cnames1= list(data_new.columns.values)"
   ]
  },
  {
   "cell_type": "code",
   "execution_count": 98,
   "metadata": {},
   "outputs": [
    {
     "data": {
      "text/plain": [
       "['mnth',\n",
       " 'yr',\n",
       " 'holiday',\n",
       " 'weekday',\n",
       " 'workingday',\n",
       " 'temp',\n",
       " 'weathersit',\n",
       " 'windspeed',\n",
       " 'cnt']"
      ]
     },
     "execution_count": 98,
     "metadata": {},
     "output_type": "execute_result"
    }
   ],
   "source": [
    "cnames1\n",
    "#summary(cnames1)"
   ]
  },
  {
   "cell_type": "code",
   "execution_count": 7,
   "metadata": {},
   "outputs": [
    {
     "name": "stdout",
     "output_type": "stream",
     "text": [
      "instant\n",
      "season\n",
      "yr\n",
      "mnth\n",
      "holiday\n",
      "weekday\n",
      "workingday\n",
      "weathersit\n",
      "temp\n",
      "atemp\n",
      "hum\n",
      "windspeed\n",
      "casual\n",
      "registered\n",
      "cnt\n"
     ]
    }
   ],
   "source": [
    "for i in cnames:\n",
    "    print(i)\n",
    "    data_corr[i] = (data_corr[i] - min(data_corr[i]))/(max(data_corr[i]) - min(data_corr[i]))"
   ]
  },
  {
   "cell_type": "code",
   "execution_count": 8,
   "metadata": {
    "collapsed": true
   },
   "outputs": [],
   "source": [
    "data_new = data_corr.drop(['atemp','instant','season','hum','registered','casual'],axis=1)"
   ]
  },
  {
   "cell_type": "code",
   "execution_count": 9,
   "metadata": {
    "collapsed": true
   },
   "outputs": [],
   "source": [
    "# fitting into knn regressor\n",
    "\n",
    "from sklearn.neighbors import KNeighborsRegressor\n",
    "\n",
    "# atemp,instant,season,hum,registered,casual"
   ]
  },
  {
   "cell_type": "code",
   "execution_count": 29,
   "metadata": {},
   "outputs": [],
   "source": [
    "# split the variables into train and test\n",
    "\n",
    "X = data_new.values[:, 0:8]\n",
    "Y = data_new.values[:,8]\n",
    "\n",
    "X_train, X_test, y_train, y_test = train_test_split( X, Y, test_size = 0.2)"
   ]
  },
  {
   "cell_type": "code",
   "execution_count": 32,
   "metadata": {
    "collapsed": true
   },
   "outputs": [],
   "source": [
    "KNN_model = KNeighborsRegressor(n_neighbors = 5).fit(X_train, y_train)"
   ]
  },
  {
   "cell_type": "code",
   "execution_count": 33,
   "metadata": {
    "collapsed": true
   },
   "outputs": [],
   "source": [
    "# predicting the values\n",
    "\n",
    "KNN_Predictions = KNN_model.predict(X_test)"
   ]
  },
  {
   "cell_type": "code",
   "execution_count": null,
   "metadata": {
    "collapsed": true
   },
   "outputs": [],
   "source": [
    "MAPE(y_test, KNN_Predictions)"
   ]
  },
  {
   "cell_type": "code",
   "execution_count": null,
   "metadata": {
    "collapsed": true
   },
   "outputs": [],
   "source": [
    "# The MAPE is 20.13 when k=5\n",
    "# So as we can see the MAPE is less for KNN so we will select the KNN regression model."
   ]
  }
 ],
 "metadata": {
  "kernelspec": {
   "display_name": "Python 3",
   "language": "python",
   "name": "python3"
  },
  "language_info": {
   "codemirror_mode": {
    "name": "ipython",
    "version": 3
   },
   "file_extension": ".py",
   "mimetype": "text/x-python",
   "name": "python",
   "nbconvert_exporter": "python",
   "pygments_lexer": "ipython3",
   "version": "3.6.1"
  }
 },
 "nbformat": 4,
 "nbformat_minor": 2
}
